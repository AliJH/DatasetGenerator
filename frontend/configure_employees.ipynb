{
 "cells": [
  {
   "cell_type": "code",
   "execution_count": 108,
   "metadata": {},
   "outputs": [],
   "source": [
    "import ipywidgets as widgets\n",
    "from IPython.display import display"
   ]
  },
  {
   "cell_type": "code",
   "execution_count": 109,
   "metadata": {},
   "outputs": [],
   "source": [
    "l2_general_organisation_size = widgets.IntText(\n",
    "      value       = 1000\n",
    "    , description = 'Organisation Size'\n",
    "    , disabled    = False\n",
    ")"
   ]
  },
  {
   "cell_type": "code",
   "execution_count": 110,
   "metadata": {},
   "outputs": [
    {
     "data": {
      "application/vnd.jupyter.widget-view+json": {
       "model_id": "dffb199a526842d5aee498e3414265b9",
       "version_major": 2,
       "version_minor": 0
      },
      "text/plain": [
       "Box(children=(Box(children=(Label(value='Emploment Type Mix (percentage)', layout=Layout(display='flex', justi…"
      ]
     },
     "metadata": {},
     "output_type": "display_data"
    }
   ],
   "source": [
    "l2_box_layout = widgets.Layout(\n",
    "      display         = 'flex'\n",
    "    , flex_flow       = 'column'\n",
    "    , align_content   = 'center'\n",
    "    , justify_content = 'center'\n",
    ")\n",
    "\n",
    "l2_employment_type_mix        = widgets.Box(layout = l2_box_layout)\n",
    "l2_employment_type_mix_header = widgets.Box(layout = l2_box_layout)\n",
    "l2_employment_type_mix_body   = widgets.Box(layout = l2_box_layout)\n",
    "\n",
    "l2_employment_type_mix_values = {\n",
    "    'permanent full time': 50\n",
    "  , 'permanent part time': 10\n",
    "  , 'temporary full time': 20\n",
    "  , 'temporary part time':  5\n",
    "  , 'casual'             :  5\n",
    "  , 'contractor'         : 10\n",
    "  , 'volunteer'          :  0\n",
    "}\n",
    "\n",
    "l2_employment_type_mix_title = widgets.Label(\n",
    "    value       = 'Emploment Type Mix (percentage)'\n",
    "  , layout      = {'display':\"flex\", 'justify_content':\"center\", 'width':'25%'}\n",
    ")\n",
    "\n",
    "l2_employment_type_mix_user_message = widgets.Label(\n",
    "    value       = ''\n",
    "  , layout      = {'display':\"flex\", 'justify_content':\"center\", 'width':'25%'}\n",
    ")\n",
    "\n",
    "l2_employment_type_mix_total = widgets.IntText(\n",
    "    description = 'Total'\n",
    "  , value       = 100\n",
    "  , disabled    = True\n",
    "  , layout      = {'width': 'max_content'}\n",
    "  , style       = {'description_width': '50%'}\n",
    ")\n",
    "\n",
    "l2_employment_type_mix_header.children = [l2_employment_type_mix_title] + [l2_employment_type_mix_user_message] + [l2_employment_type_mix_total]\n",
    "\n",
    "l2_employment_type_mix_body.children = [widgets.BoundedIntText(\n",
    "      description = key\n",
    "    , value       = value\n",
    "    , min         = 0\n",
    "    , max         = 100\n",
    "    , step        = 1\n",
    "    , disabled    = False\n",
    "    , layout      = {'width': 'max_content'}\n",
    "    , style       = {'description_width': '50%'}\n",
    ") for i, (key, value) in enumerate(l2_employment_type_mix_values.items())]\n",
    "\n",
    "def l2_employment_type_mix_on_value_change(change):\n",
    "  if change['old'] != change['new']:\n",
    "    l2_employment_type_mix_total.value += change['new'] - change['old']\n",
    "\n",
    "  if l2_employment_type_mix_total.value == 100:\n",
    "    l2_employment_type_mix_user_message.value = 'Employment types total 100% Good to go!'\n",
    "  elif l2_employment_type_mix_total.value > 100:\n",
    "    l2_employment_type_mix_user_message.value = 'Employment types total over 100% Please correct mix.'\n",
    "  else:\n",
    "    l2_employment_type_mix_user_message.value = 'Employment types total under 100% Please correct mix.'\n",
    "\n",
    "l2_employment_type_mix_on_value_change({'old': 0, 'new': 0})\n",
    "\n",
    "for i in l2_employment_type_mix_body.children:\n",
    "  i.observe(l2_employment_type_mix_on_value_change, names='value')\n",
    "\n",
    "l2_employment_type_mix.children = [l2_employment_type_mix_header] + [l2_employment_type_mix_body]\n",
    "l2_employment_type_mix"
   ]
  },
  {
   "cell_type": "code",
   "execution_count": 111,
   "metadata": {},
   "outputs": [
    {
     "data": {
      "application/vnd.jupyter.widget-view+json": {
       "model_id": "d7f35886c6a8484797268c6dbbf047dc",
       "version_major": 2,
       "version_minor": 0
      },
      "text/plain": [
       "Tab(children=(Box(children=(Box(children=(Label(value='Emploment Type Mix (percentage)', layout=Layout(display…"
      ]
     },
     "metadata": {},
     "output_type": "display_data"
    }
   ],
   "source": [
    "l1_tab        = widgets.Tab()\n",
    "l1_tab_titles = ['General', 'Divisions', 'Teams'] \n",
    "[l1_tab.set_title(i, title) for i, title in enumerate(l1_tab_titles)]\n",
    "\n",
    "l1_tab.children = [l2_employment_type_mix, l2_employment_type_mix, l2_employment_type_mix]\n",
    "\n",
    "l1_tab"
   ]
  }
 ],
 "metadata": {
  "kernelspec": {
   "display_name": "Python 3.10.6 64-bit",
   "language": "python",
   "name": "python3"
  },
  "language_info": {
   "codemirror_mode": {
    "name": "ipython",
    "version": 3
   },
   "file_extension": ".py",
   "mimetype": "text/x-python",
   "name": "python",
   "nbconvert_exporter": "python",
   "pygments_lexer": "ipython3",
   "version": "3.10.6"
  },
  "orig_nbformat": 4,
  "vscode": {
   "interpreter": {
    "hash": "542545127f2207b65e5522ec19e5436c34e3d8eaee704325af620f7434c0da05"
   }
  }
 },
 "nbformat": 4,
 "nbformat_minor": 2
}
