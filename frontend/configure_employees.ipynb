{
 "cells": [
  {
   "cell_type": "code",
   "execution_count": 151,
   "metadata": {},
   "outputs": [],
   "source": [
    "import ipywidgets as widgets\n",
    "\n",
    "from IPython.display import display\n",
    "from json            import dumps"
   ]
  },
  {
   "cell_type": "code",
   "execution_count": 152,
   "metadata": {},
   "outputs": [],
   "source": [
    "# Level 3: Standard Properties\n",
    "\n",
    "l3_box_layout = widgets.Layout(\n",
    "      display         = 'flex'\n",
    "    , flex_flow       = 'column'\n",
    "    , align_content   = 'center'\n",
    "    , justify_content = 'center'\n",
    ")\n",
    "\n",
    "l3_text_layout = widgets.Layout(\n",
    "    display           = 'flex'\n",
    "  , justify_content   = 'center'\n",
    "  , width             = '25%'\n",
    ")\n",
    "\n",
    "l3_input_layout = widgets.Layout(\n",
    "    width             = 'max_content'\n",
    ")\n",
    "\n",
    "l3_input_style = {\n",
    "    'description_width': '50%'\n",
    "}"
   ]
  },
  {
   "cell_type": "code",
   "execution_count": 153,
   "metadata": {},
   "outputs": [],
   "source": [
    "# Level 3: General / Organisation Size\n",
    "l3_general_organisation_size = widgets.IntText(\n",
    "      value       = 1000\n",
    "    , description = 'Organisation Size'\n",
    "    , disabled    = False\n",
    "    , layout      = l3_input_layout\n",
    "    , style       = l3_input_style\n",
    ")"
   ]
  },
  {
   "cell_type": "code",
   "execution_count": 154,
   "metadata": {},
   "outputs": [],
   "source": [
    "# Level 3: General / Employment Type Mix\n",
    "# To Do:  Create functionality for users to add/remove/modify employment types descriptions.\n",
    "\n",
    "l3_employment_type_mix        = widgets.Box(layout = l3_box_layout)\n",
    "l3_employment_type_mix_header = widgets.Box(layout = l3_box_layout)\n",
    "l3_employment_type_mix_body   = widgets.Box(layout = l3_box_layout)\n",
    "\n",
    "l3_employment_type_mix_values = {\n",
    "    'permanent full time': 50\n",
    "  , 'permanent part time': 10\n",
    "  , 'temporary full time': 20\n",
    "  , 'temporary part time':  5\n",
    "  , 'casual'             :  5\n",
    "  , 'contractor'         : 10\n",
    "  , 'volunteer'          :  0\n",
    "}\n",
    "\n",
    "l3_employment_type_mix_title = widgets.Label(\n",
    "    value       = 'Emploment Type Mix (percentage)'\n",
    "  , layout      = l3_text_layout\n",
    ")\n",
    "\n",
    "l3_employment_type_mix_user_message = widgets.Label(\n",
    "    value       = ''\n",
    "  , layout      = l3_text_layout\n",
    ")\n",
    "\n",
    "l3_employment_type_mix_total = widgets.IntText(\n",
    "    description = 'Total'\n",
    "  , value       = 100\n",
    "  , disabled    = True\n",
    "  , layout      = l3_input_layout\n",
    "  , style       = l3_input_style\n",
    ")\n",
    "\n",
    "l3_employment_type_mix_header.children = [l3_employment_type_mix_title] + [l3_employment_type_mix_user_message] + [l3_employment_type_mix_total]\n",
    "\n",
    "l3_employment_type_mix_body.children = [widgets.BoundedIntText(\n",
    "      description = key\n",
    "    , value       = value\n",
    "    , min         = 0\n",
    "    , max         = 100\n",
    "    , step        = 1\n",
    "    , disabled    = False\n",
    "    , layout      = l3_input_layout\n",
    "    , style       = l3_input_style\n",
    ") for i, (key, value) in enumerate(l3_employment_type_mix_values.items())]\n",
    "\n",
    "def l3_employment_type_mix_on_value_change(change):\n",
    "  if change['old'] != change['new']:\n",
    "    l3_employment_type_mix_total.value += change['new'] - change['old']\n",
    "\n",
    "  if l3_employment_type_mix_total.value == 100:\n",
    "    l3_employment_type_mix_user_message.value = 'Employment types total 100% Good to go!'\n",
    "  elif l3_employment_type_mix_total.value > 100:\n",
    "    l3_employment_type_mix_user_message.value = 'Employment types total over 100% Please correct mix.'\n",
    "  else:\n",
    "    l3_employment_type_mix_user_message.value = 'Employment types total under 100% Please correct mix.'\n",
    "\n",
    "def l3_employment_type_mix_values_to_json():\n",
    "  dumps({input.description: input.value / 100 for input in l3_employment_type_mix_body.children})\n",
    "\n",
    "l3_employment_type_mix_on_value_change({'old': 0, 'new': 0})\n",
    "\n",
    "for input in l3_employment_type_mix_body.children:\n",
    "  input.observe(l3_employment_type_mix_on_value_change, names='value')\n",
    "\n",
    "l3_employment_type_mix.children = [l3_employment_type_mix_header] + [l3_employment_type_mix_body]"
   ]
  },
  {
   "cell_type": "code",
   "execution_count": 155,
   "metadata": {},
   "outputs": [],
   "source": [
    "# Level 2: General\n",
    "l2_general = widgets.Accordion(\n",
    "    children = [l3_general_organisation_size, l3_employment_type_mix]\n",
    ")\n",
    "\n",
    "l2_general.set_title(0, 'Organisation Size')\n",
    "l2_general.set_title(1, 'Employment Type Mix')"
   ]
  },
  {
   "cell_type": "code",
   "execution_count": 156,
   "metadata": {},
   "outputs": [
    {
     "data": {
      "application/vnd.jupyter.widget-view+json": {
       "model_id": "9e9ea802952746ec893a62facad25d8b",
       "version_major": 2,
       "version_minor": 0
      },
      "text/plain": [
       "Tab(children=(Accordion(children=(IntText(value=1000, description='Organisation Size', layout=Layout(width='ma…"
      ]
     },
     "metadata": {},
     "output_type": "display_data"
    }
   ],
   "source": [
    "l1_tab        = widgets.Tab()\n",
    "l1_tab_titles = ['General', 'Divisions', 'Teams'] \n",
    "[l1_tab.set_title(i, title) for i, title in enumerate(l1_tab_titles)]\n",
    "\n",
    "l1_tab.children = [l2_general, l3_employment_type_mix, l3_employment_type_mix]\n",
    "\n",
    "l1_tab"
   ]
  }
 ],
 "metadata": {
  "kernelspec": {
   "display_name": "Python 3.10.6 64-bit",
   "language": "python",
   "name": "python3"
  },
  "language_info": {
   "codemirror_mode": {
    "name": "ipython",
    "version": 3
   },
   "file_extension": ".py",
   "mimetype": "text/x-python",
   "name": "python",
   "nbconvert_exporter": "python",
   "pygments_lexer": "ipython3",
   "version": "3.10.6"
  },
  "orig_nbformat": 4,
  "vscode": {
   "interpreter": {
    "hash": "542545127f2207b65e5522ec19e5436c34e3d8eaee704325af620f7434c0da05"
   }
  }
 },
 "nbformat": 4,
 "nbformat_minor": 2
}
