{
 "cells": [
  {
   "cell_type": "code",
   "execution_count": 40,
   "metadata": {},
   "outputs": [],
   "source": [
    "import ipywidgets as widgets\n",
    "import json\n",
    "\n",
    "from IPython.display import display\n",
    "\n",
    "default_configuration_dir = './default/configure_employees'"
   ]
  },
  {
   "cell_type": "code",
   "execution_count": 41,
   "metadata": {},
   "outputs": [],
   "source": [
    "# Level 3: Standard Properties\n",
    "\n",
    "l3_box_layout = widgets.Layout(\n",
    "      display         = 'flex'\n",
    "    , flex_flow       = 'column'\n",
    "    , align_content   = 'center'\n",
    "    , justify_content = 'center'\n",
    ")\n",
    "\n",
    "l3_text_layout = widgets.Layout(\n",
    "    display           = 'flex'\n",
    "  , justify_content   = 'center'\n",
    "  , width             = '25%'\n",
    ")\n",
    "\n",
    "l3_input_layout = widgets.Layout(\n",
    "    width             = 'max_content'\n",
    ")\n",
    "\n",
    "l3_input_style = {\n",
    "    'description_width': '50%'\n",
    "}"
   ]
  },
  {
   "cell_type": "code",
   "execution_count": 42,
   "metadata": {},
   "outputs": [],
   "source": [
    "# Level 3: General / Organisation Size\n",
    "l3_general_organisation_size = widgets.BoundedIntText(\n",
    "      value       = 1000\n",
    "    , min         = 100\n",
    "    , max         = 100000\n",
    "    , description = 'Organisation Size'\n",
    "    , disabled    = False\n",
    "    , layout      = l3_input_layout\n",
    "    , style       = l3_input_style\n",
    ")"
   ]
  },
  {
   "cell_type": "code",
   "execution_count": 56,
   "metadata": {},
   "outputs": [],
   "source": [
    "# Level 3: General / Employment Type Mix\n",
    "# To Do:  Create functionality for users to add/remove/modify employment types descriptions.\n",
    "def l3_employment_type_mix_on_value_change(change):\n",
    "  if change['old'] != change['new']:\n",
    "    l3_employment_type_mix_total.value += change['new'] - change['old']\n",
    "\n",
    "  if l3_employment_type_mix_total.value == 100:\n",
    "    l3_employment_type_mix_user_message.value = 'Employment types total 100% Good to go!'\n",
    "  elif l3_employment_type_mix_total.value > 100:\n",
    "    l3_employment_type_mix_user_message.value = 'Employment types total over 100% Please correct mix.'\n",
    "  else:\n",
    "    l3_employment_type_mix_user_message.value = 'Employment types total under 100% Please correct mix.'\n",
    "\n",
    "def l3_employment_type_mix_values_to_json():\n",
    "  dumps({input.description: input.value / 100 for input in l3_employment_type_mix_body.children})\n",
    "\n",
    "\n",
    "with open(default_configuration_dir + '/employee_type_mix.json') as json_file:\n",
    "    l3_employment_type_mix_values = json.load(json_file)\n",
    "\n",
    "    \n",
    "l3_employment_type_mix        = widgets.Box(layout = l3_box_layout)\n",
    "l3_employment_type_mix_header = widgets.Box(layout = l3_box_layout)\n",
    "l3_employment_type_mix_body   = widgets.Box(layout = l3_box_layout)\n",
    "\n",
    "\n",
    "l3_employment_type_mix_user_message = widgets.Label(value = '')\n",
    "\n",
    "l3_employment_type_mix_total = widgets.IntText(\n",
    "    description = 'Total'\n",
    "  , value       = 0\n",
    "  , disabled    = True\n",
    "  , layout      = l3_input_layout\n",
    "  , style       = l3_input_style\n",
    ")\n",
    "\n",
    "l3_employment_type_mix_header.children = [l3_employment_type_mix_user_message] + [l3_employment_type_mix_total]\n",
    "\n",
    "l3_employment_type_mix_body.children = [widgets.BoundedIntText(\n",
    "      description = key\n",
    "    , value       = value * 100\n",
    "    , min         = 0\n",
    "    , max         = 100\n",
    "    , step        = 1\n",
    "    , disabled    = False\n",
    "    , layout      = l3_input_layout\n",
    "    , style       = l3_input_style\n",
    ") for i, (key, value) in enumerate(l3_employment_type_mix_values['configuration_values'].items())]\n",
    "\n",
    "\n",
    "for input in l3_employment_type_mix_body.children:\n",
    "  input.observe(l3_employment_type_mix_on_value_change, names='value')\n",
    "\n",
    "\n",
    "l3_employment_type_mix_total.value = sum([input.value for input in l3_employment_type_mix_body.children])\n",
    "l3_employment_type_mix_on_value_change({'old': 0, 'new': 0})\n",
    "\n",
    "\n",
    "l3_employment_type_mix.children = [l3_employment_type_mix_header] + [l3_employment_type_mix_body]"
   ]
  },
  {
   "cell_type": "code",
   "execution_count": 57,
   "metadata": {},
   "outputs": [],
   "source": [
    "# Level 2: General\n",
    "l2_general = widgets.Accordion(\n",
    "      children = [l3_general_organisation_size, l3_employment_type_mix]\n",
    "    , titles   = ['Organisation Size', 'Employment Type Mix (percentage)']\n",
    ")"
   ]
  },
  {
   "cell_type": "code",
   "execution_count": 58,
   "metadata": {},
   "outputs": [
    {
     "data": {
      "application/vnd.jupyter.widget-view+json": {
       "model_id": "15671c6cc8ea471484511c7ba229318b",
       "version_major": 2,
       "version_minor": 0
      },
      "text/plain": [
       "Tab(children=(Accordion(children=(BoundedIntText(value=1000, description='Organisation Size', layout=Layout(wi…"
      ]
     },
     "execution_count": 58,
     "metadata": {},
     "output_type": "execute_result"
    }
   ],
   "source": [
    "l1_tab = widgets.Tab(\n",
    "    children = [l2_general, l3_employment_type_mix, l3_employment_type_mix]\n",
    "  , titles   = ['General', 'Divisions', 'Teams']\n",
    ")\n",
    "\n",
    "l1_tab"
   ]
  }
 ],
 "metadata": {
  "kernelspec": {
   "display_name": "Python 3 (ipykernel)",
   "language": "python",
   "name": "python3"
  },
  "language_info": {
   "codemirror_mode": {
    "name": "ipython",
    "version": 3
   },
   "file_extension": ".py",
   "mimetype": "text/x-python",
   "name": "python",
   "nbconvert_exporter": "python",
   "pygments_lexer": "ipython3",
   "version": "3.11.1"
  },
  "vscode": {
   "interpreter": {
    "hash": "87e0483d78464df43db254c01230defa59c99ca7fff91ca6a1088fcb476f3e1e"
   }
  }
 },
 "nbformat": 4,
 "nbformat_minor": 4
}
