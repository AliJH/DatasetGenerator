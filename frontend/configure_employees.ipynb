{
 "cells": [
  {
   "cell_type": "code",
   "execution_count": 45,
   "metadata": {},
   "outputs": [],
   "source": [
    "# To Do: Create global config object for things that are not tied to a\n",
    "#        particular dataset configuration but may still be changeable, e.g.\n",
    "#        user messages related to input validation. Or maybe not this is an\n",
    "#        interactive notebook not some compiled software.\n",
    "\n",
    "import ipywidgets as widgets\n",
    "import json\n",
    "\n",
    "from IPython.display import display\n",
    "\n",
    "\n",
    "with open('./default/default_employees.json') as default_configuration_json:\n",
    "    config = json.load(default_configuration_json)\n",
    "\n",
    "\n",
    "l3_config_dataset_details = config['overview']['dataset_details']\n",
    "\n",
    "l3_config_organisation_size   = config['employee_properties']['organisation_size']\n",
    "l3_config_employment_type_mix = config['employee_properties']['employment_type_mix']"
   ]
  },
  {
   "cell_type": "code",
   "execution_count": 46,
   "metadata": {},
   "outputs": [],
   "source": [
    "# Level 3: Standard Properties\n",
    "\n",
    "l3_box_layout = widgets.Layout(\n",
    "      display         = 'flex'\n",
    "    , flex_flow       = 'column'\n",
    "    , align_content   = 'center'\n",
    "    , justify_content = 'center'\n",
    ")\n",
    "\n",
    "l3_text_layout = widgets.Layout(\n",
    "    display           = 'flex'\n",
    "  , justify_content   = 'center'\n",
    "  , width             = '25%'\n",
    ")\n",
    "\n",
    "l3_input_layout = widgets.Layout(\n",
    "    width             = 'max_content'\n",
    ")\n",
    "\n",
    "l3_input_style = {\n",
    "    'description_width': '50%'\n",
    "}"
   ]
  },
  {
   "cell_type": "code",
   "execution_count": 47,
   "metadata": {},
   "outputs": [],
   "source": [
    "# Level 3: Overview / Dataset Details\n",
    "l3_dataset_details_configuration_name = widgets.Text(\n",
    "    value       = l3_config_dataset_details['configuration_name']\n",
    "  , description = 'Configuration Name'\n",
    "  , disabled    = False\n",
    "  , layout      = l3_input_layout\n",
    "  , style       = l3_input_style\n",
    ")\n",
    "\n",
    "l3_dataset_details_dataset_configuration_last_modified = widgets.Text(\n",
    "    value       = l3_config_dataset_details['last_modified']\n",
    "  , description = 'Last Modified'\n",
    "  , disabled    = True\n",
    "  , layout      = l3_input_layout\n",
    "  , style       = l3_input_style\n",
    ")\n",
    "\n",
    "l3_dataset_details_dataset_name = widgets.Text(\n",
    "    value       = l3_config_dataset_details['dataset_name']\n",
    "  , description = 'Dataset Name'\n",
    "  , disabled    = True\n",
    "  , layout      = l3_input_layout\n",
    "  , style       = l3_input_style\n",
    ")\n",
    "\n",
    "l3_dataset_details = widgets.Box(\n",
    "    children = [l3_dataset_details_configuration_name] +\n",
    "               [l3_dataset_details_dataset_configuration_last_modified] +\n",
    "               [l3_dataset_details_dataset_name]\n",
    "  , layout = l3_box_layout\n",
    ")"
   ]
  },
  {
   "cell_type": "code",
   "execution_count": 48,
   "metadata": {},
   "outputs": [],
   "source": [
    "# Level 2: Overview\n",
    "# Maybe down the track we will want additional information in level 2 overview.\n",
    "l2_overview = l3_dataset_details"
   ]
  },
  {
   "cell_type": "code",
   "execution_count": 49,
   "metadata": {},
   "outputs": [],
   "source": [
    "# Level 3: General / Organisation Size\n",
    "l3_general_organisation_size = widgets.BoundedIntText(\n",
    "      value       = l3_config_organisation_size['value']\n",
    "    , min         = 100\n",
    "    , max         = 100000\n",
    "    , description = l3_config_organisation_size['description']\n",
    "    , disabled    = False\n",
    "    , layout      = l3_input_layout\n",
    "    , style       = l3_input_style\n",
    ")"
   ]
  },
  {
   "cell_type": "code",
   "execution_count": 50,
   "metadata": {},
   "outputs": [],
   "source": [
    "# Level 3: Employee Properties / Employment Type Mix\n",
    "# To Do:  Create functionality for users to add/remove/modify employment types descriptions.\n",
    "def l3_employment_type_mix_on_value_change(change):\n",
    "  if change['old'] != change['new']:\n",
    "    l3_employment_type_mix_total.value += change['new'] - change['old']\n",
    "\n",
    "  if l3_employment_type_mix_total.value == 100:\n",
    "    l3_employment_type_mix_user_message.value = 'Employment types total 100% Good to go!'\n",
    "  elif l3_employment_type_mix_total.value > 100:\n",
    "    l3_employment_type_mix_user_message.value = 'Employment types total over 100% Please correct mix.'\n",
    "  else:\n",
    "    l3_employment_type_mix_user_message.value = 'Employment types total under 100% Please correct mix.'\n",
    "\n",
    "def l3_employment_type_mix_values_to_json():\n",
    "  dumps({input.description: input.value / 100 for input in l3_employment_type_mix_body.children})\n",
    "\n",
    "\n",
    "l3_employment_type_mix        = widgets.Box(layout = l3_box_layout)\n",
    "l3_employment_type_mix_header = widgets.Box(layout = l3_box_layout)\n",
    "l3_employment_type_mix_body   = widgets.Box(layout = l3_box_layout)\n",
    "\n",
    "\n",
    "l3_employment_type_mix_user_message = widgets.Label(value = '')\n",
    "\n",
    "l3_employment_type_mix_total = widgets.IntText(\n",
    "    description = 'Total'\n",
    "  , value       = 0\n",
    "  , disabled    = True\n",
    "  , layout      = l3_input_layout\n",
    "  , style       = l3_input_style\n",
    ")\n",
    "\n",
    "l3_employment_type_mix_header.children = [l3_employment_type_mix_user_message] + [l3_employment_type_mix_total]\n",
    "\n",
    "l3_employment_type_mix_body.children = [widgets.BoundedIntText(\n",
    "      description = key\n",
    "    , value       = value * 100\n",
    "    , min         = 0\n",
    "    , max         = 100\n",
    "    , step        = 1\n",
    "    , disabled    = False\n",
    "    , layout      = l3_input_layout\n",
    "    , style       = l3_input_style\n",
    ") for i, (key, value) in enumerate(l3_config_employment_type_mix['values'].items())]\n",
    "\n",
    "\n",
    "for input in l3_employment_type_mix_body.children:\n",
    "  input.observe(l3_employment_type_mix_on_value_change, names='value')\n",
    "\n",
    "\n",
    "l3_employment_type_mix_total.value = sum([input.value for input in l3_employment_type_mix_body.children])\n",
    "l3_employment_type_mix_on_value_change({'old': 0, 'new': 0})\n",
    "\n",
    "\n",
    "l3_employment_type_mix.children = [l3_employment_type_mix_header] + [l3_employment_type_mix_body]"
   ]
  },
  {
   "cell_type": "code",
   "execution_count": 51,
   "metadata": {},
   "outputs": [],
   "source": [
    "# Level 2: Employee Properties\n",
    "l2_employee_properties = widgets.Accordion(\n",
    "      children = [l3_general_organisation_size, l3_employment_type_mix]\n",
    "    , titles   = ['Organisation Size', 'Employment Type Mix (percentage)']\n",
    ")"
   ]
  },
  {
   "cell_type": "code",
   "execution_count": 52,
   "metadata": {},
   "outputs": [
    {
     "data": {
      "application/vnd.jupyter.widget-view+json": {
       "model_id": "8efefe2c217f42929ec719316a44b5f7",
       "version_major": 2,
       "version_minor": 0
      },
      "text/plain": [
       "Tab(children=(Box(children=(Text(value='default', description='Configuration Name', layout=Layout(width='max_c…"
      ]
     },
     "execution_count": 52,
     "metadata": {},
     "output_type": "execute_result"
    }
   ],
   "source": [
    "l1_tab = widgets.Tab(\n",
    "    children = [\n",
    "          l2_overview\n",
    "        , l2_employee_properties\n",
    "        , l2_employee_properties\n",
    "        , l2_employee_properties\n",
    "    ]\n",
    "  \n",
    "  , titles   = [\n",
    "      'Overview'\n",
    "    , 'Employee Properties'\n",
    "    , 'Divisions'\n",
    "    , 'Teams'\n",
    "  ]\n",
    ")\n",
    "\n",
    "l1_tab"
   ]
  }
 ],
 "metadata": {
  "kernelspec": {
   "display_name": "Python 3 (ipykernel)",
   "language": "python",
   "name": "python3"
  },
  "language_info": {
   "codemirror_mode": {
    "name": "ipython",
    "version": 3
   },
   "file_extension": ".py",
   "mimetype": "text/x-python",
   "name": "python",
   "nbconvert_exporter": "python",
   "pygments_lexer": "ipython3",
   "version": "3.11.1"
  },
  "vscode": {
   "interpreter": {
    "hash": "87e0483d78464df43db254c01230defa59c99ca7fff91ca6a1088fcb476f3e1e"
   }
  }
 },
 "nbformat": 4,
 "nbformat_minor": 4
}
